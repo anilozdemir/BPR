{
 "cells": [
  {
   "cell_type": "markdown",
   "metadata": {},
   "source": [
    "# Study-01-AugmentedDataset\n",
    "Details: [Notion Link](https://www.notion.so/AntWorld-Dataset-ce7a7c36f5154ed4a15e192bda2a06af)"
   ]
  },
  {
   "cell_type": "code",
   "execution_count": 1,
   "metadata": {},
   "outputs": [],
   "source": [
    "import itertools\n",
    "import copy\n",
    "import numpy as np\n",
    "from numpy import linalg as LA\n",
    "import matplotlib.pyplot as P\n",
    "import gym\n",
    "from gym import spaces\n",
    "from tqdm import tqdm\n",
    "import seaborn as sns\n",
    "\n",
    "import torch\n",
    "from torch.utils.data import DataLoader\n",
    "from torch.nn import functional as F\n",
    "from pytorch_lightning.core.lightning import LightningModule\n",
    "from pytorch_lightning import Trainer\n",
    "\n",
    "import pyRC.datasets.nordland as Nordland\n",
    "import pyRC.analyse.utils as utA\n",
    "import pyRC.datasets.utils as utD\n",
    "import pyRC.learn.utils as utL\n",
    "from pyRC.network import ESN_NA\n",
    "from pyRC.environments import AntWorld\n",
    "\n",
    "# Plotting settings\n",
    "sns.set_context(\"notebook\", font_scale = 1.5)\n",
    "sns.set_style(\"dark\")\n",
    "sns.set_palette(\"deep\", 12)\n",
    "from ipywidgets import interact, interactive, fixed, interact_manual\n",
    "cmap='turbo'"
   ]
  },
  {
   "cell_type": "markdown",
   "metadata": {},
   "source": [
    "## Load Environment"
   ]
  },
  {
   "cell_type": "code",
   "execution_count": 2,
   "metadata": {},
   "outputs": [
    {
     "name": "stderr",
     "output_type": "stream",
     "text": [
      "/home/anil/.virtualenv/pyRC2-vEnv/lib/python3.8/site-packages/gym/logger.py:30: UserWarning: \u001b[33mWARN: Box bound precision lowered by casting to float32\u001b[0m\n",
      "  warnings.warn(colorize('%s: %s'%('WARN', msg % args), 'yellow'))\n"
     ]
    }
   ],
   "source": [
    "# Ant environment\n",
    "env = AntWorld('AntWorld-Gym-02')"
   ]
  },
  {
   "cell_type": "markdown",
   "metadata": {},
   "source": [
    "### Prepare environment for training"
   ]
  },
  {
   "cell_type": "code",
   "execution_count": 3,
   "metadata": {},
   "outputs": [
    {
     "name": "stdout",
     "output_type": "stream",
     "text": [
      "(8000, 10, 36)\n"
     ]
    }
   ],
   "source": [
    "# Img = np.load('AntWorld-Gym-01.npz')['Img'] # Generic Environment\n",
    "Img = env.Img\n",
    "print(Img.shape)\n",
    "height, width = Img.shape[1:]"
   ]
  },
  {
   "cell_type": "code",
   "execution_count": 4,
   "metadata": {},
   "outputs": [],
   "source": [
    "Imgs, Lbls = [], []\n",
    "for x in np.arange(0, 2, 0.05): # Label: 1\n",
    "    Imgs.append(env.getImage([x,0],0))\n",
    "    Lbls.append(1) \n",
    "for x in np.arange(2, 4, 0.05): # Label: 0\n",
    "    Imgs.append(env.getImage([x,0],0))\n",
    "    Lbls.append(0)\n",
    "\n",
    "nImg  = len(Imgs)\n",
    "Image = torch.Tensor(Imgs).unsqueeze(-1) # should be of size [nImg, h, w, 1]\n",
    "Label = [1] * int(nImg/2) + [0] * int(nImg/2) # half 1, half 0 \n",
    "\n",
    "dataSet    = utD.ImageDataset(Image, Label)\n",
    "dataLoader = DataLoader(dataSet,batch_size=1, shuffle=False)"
   ]
  },
  {
   "cell_type": "markdown",
   "metadata": {},
   "source": [
    "## PyTorch Lignthning Module for Experiment"
   ]
  },
  {
   "cell_type": "code",
   "execution_count": 13,
   "metadata": {},
   "outputs": [],
   "source": [
    "class Experiment(LightningModule):\n",
    "    def __init__(self, trainData):\n",
    "        super().__init__()\n",
    "        self.hparams   = {**config['hyperparameters'], **config['experimentParameters'], **config['modelParameters'], **config['experimentDetails']} # unzip nested dict\n",
    "        self.trainData = trainData\n",
    "        self.RC        = ESN_NA(self.hparams)\n",
    "        self.GroundTruth = torch.Tensor(dataLoader.dataset.labels)\n",
    "        \n",
    "    def forward(self, x):\n",
    "        return self.RC(x)\n",
    "    \n",
    "    def configure_optimizers(self):\n",
    "        return torch.optim.Adam(self.RC.params)\n",
    "    \n",
    "    def train_dataloader(self):\n",
    "        return self.trainData\n",
    "    \n",
    "    def test_dataloader(self):\n",
    "        return self.trainData\n",
    "    \n",
    "    def training_step(self, batch, batch_idx):\n",
    "        if batch_idx == 0: self.RC.reset() # At the beginning of each epoch, reset the model! \n",
    "        \n",
    "        x, y  = batch\n",
    "        y_hat = self(x)\n",
    "        loss  = F.cross_entropy(y_hat, y)\n",
    "        logs_loss = {'train_loss': loss}\n",
    "        return {'loss': loss, 'log': logs_loss}\n",
    "    \n",
    "    def test_step(self, batch, batch_idx): \n",
    "        x, y    = batch\n",
    "        y_hat   = self(x)\n",
    "        tol_acc = (torch.abs(self.GroundTruth[batch_idx] - torch.argmax(y_hat))<self.hparams['tolerance']) # Accuracy\n",
    "        return {'tol_acc': tol_acc, 'y_pred': y_hat}\n",
    "\n",
    "    def test_epoch_end(self, outputs):\n",
    "        acc  = torch.stack([x['tol_acc'] for x in outputs]).float().mean()*100 # percentage\n",
    "        logs = {'test_acc': acc}\n",
    "        return logs"
   ]
  },
  {
   "cell_type": "markdown",
   "metadata": {},
   "source": [
    "## Create Model from config"
   ]
  },
  {
   "cell_type": "code",
   "execution_count": 6,
   "metadata": {},
   "outputs": [],
   "source": [
    "config = utL.getConfig('config.yaml')\n",
    "config['experimentDetails']['labelFreq'] = nImg//2"
   ]
  },
  {
   "cell_type": "code",
   "execution_count": 21,
   "metadata": {},
   "outputs": [],
   "source": [
    "expDict = {\n",
    "            'gpus'                     : 1,\n",
    "            'profiler'                 : False,\n",
    "            'log_save_interval'        : 10000,\n",
    "            'progress_bar_refresh_rate': 1000,\n",
    "            'row_log_interval'         : 10000,\n",
    "            'max_epochs'               : 10,\n",
    "            }"
   ]
  },
  {
   "cell_type": "code",
   "execution_count": 22,
   "metadata": {},
   "outputs": [
    {
     "name": "stderr",
     "output_type": "stream",
     "text": [
      "GPU available: True, used: True\n",
      "TPU available: False, using: 0 TPU cores\n",
      "CUDA_VISIBLE_DEVICES: [0]\n",
      "\n",
      "  | Name | Type   | Params\n",
      "--------------------------------\n",
      "0 | RC   | ESN_NA | 2 K   \n"
     ]
    },
    {
     "data": {
      "application/vnd.jupyter.widget-view+json": {
       "model_id": "9347beb45e9949719d5ea5436fe448f0",
       "version_major": 2,
       "version_minor": 0
      },
      "text/plain": [
       "HBox(children=(FloatProgress(value=1.0, bar_style='info', description='Training', layout=Layout(flex='2'), max…"
      ]
     },
     "metadata": {},
     "output_type": "display_data"
    },
    {
     "name": "stdout",
     "output_type": "stream",
     "text": [
      "\n"
     ]
    },
    {
     "data": {
      "application/vnd.jupyter.widget-view+json": {
       "model_id": "0c3659a0c5724ca49d81b9f8e18851c5",
       "version_major": 2,
       "version_minor": 0
      },
      "text/plain": [
       "HBox(children=(FloatProgress(value=1.0, bar_style='info', description='Testing', layout=Layout(flex='2'), max=…"
      ]
     },
     "metadata": {},
     "output_type": "display_data"
    },
    {
     "name": "stdout",
     "output_type": "stream",
     "text": [
      "--------------------------------------------------------------------------------\n",
      "TEST RESULTS\n",
      "{'test_acc': tensor(50., device='cuda:0')}\n",
      "--------------------------------------------------------------------------------\n",
      "\n"
     ]
    }
   ],
   "source": [
    "exp     = Experiment(dataLoader)\n",
    "trainer = Trainer(**expDict)\n",
    "trainer.fit(exp); \n",
    "trainer.test(ckpt_path=None);"
   ]
  },
  {
   "cell_type": "markdown",
   "metadata": {},
   "source": [
    "## Inspect States"
   ]
  }
 ],
 "metadata": {
  "kernelspec": {
   "display_name": "Python 3",
   "language": "python",
   "name": "python3"
  },
  "language_info": {
   "codemirror_mode": {
    "name": "ipython",
    "version": 3
   },
   "file_extension": ".py",
   "mimetype": "text/x-python",
   "name": "python",
   "nbconvert_exporter": "python",
   "pygments_lexer": "ipython3",
   "version": "3.8.2"
  }
 },
 "nbformat": 4,
 "nbformat_minor": 4
}
