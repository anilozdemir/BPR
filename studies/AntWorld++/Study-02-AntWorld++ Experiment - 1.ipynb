{
 "cells": [
  {
   "cell_type": "markdown",
   "metadata": {},
   "source": [
    "# Study-02-AntWorld++ Experiment - 1\n",
    "Details: [Notion Link](https://www.notion.so/AntWorld-Experiment-1-6c1c887df98b44bf8aaf36873a02d86a)"
   ]
  },
  {
   "cell_type": "code",
   "execution_count": 1,
   "metadata": {},
   "outputs": [],
   "source": [
    "import itertools\n",
    "import copy\n",
    "import numpy as np\n",
    "from numpy import linalg as LA\n",
    "import matplotlib.pyplot as P\n",
    "import gym\n",
    "from gym import spaces\n",
    "from tqdm import tqdm\n",
    "import seaborn as sns\n",
    "\n",
    "import torch\n",
    "from torch.utils.data import DataLoader\n",
    "from torch.nn import functional as F\n",
    "from pytorch_lightning.core.lightning import LightningModule\n",
    "from pytorch_lightning import Trainer\n",
    "\n",
    "import pyRC.datasets.nordland as Nordland\n",
    "import pyRC.analyse.utils as utA\n",
    "import pyRC.datasets.utils as utD\n",
    "import pyRC.learn.utils as utL\n",
    "from pyRC.network import ESN_NA\n",
    "from pyRC.environments import AntWorld\n",
    "\n",
    "# Plotting settings\n",
    "sns.set_context(\"notebook\", font_scale = 1.5)\n",
    "sns.set_style(\"dark\")\n",
    "sns.set_palette(\"deep\", 12)\n",
    "from ipywidgets import interact, interactive, fixed, interact_manual\n",
    "cmap='turbo'"
   ]
  },
  {
   "cell_type": "markdown",
   "metadata": {},
   "source": [
    "## Load Environment"
   ]
  },
  {
   "cell_type": "code",
   "execution_count": 2,
   "metadata": {},
   "outputs": [
    {
     "name": "stderr",
     "output_type": "stream",
     "text": [
      "/home/anil/.virtualenv/pyRC2-vEnv/lib/python3.8/site-packages/gym/logger.py:30: UserWarning: \u001b[33mWARN: Box bound precision lowered by casting to float32\u001b[0m\n",
      "  warnings.warn(colorize('%s: %s'%('WARN', msg % args), 'yellow'))\n"
     ]
    }
   ],
   "source": [
    "# Ant environment\n",
    "env = AntWorld('AntWorld-Gym-02')"
   ]
  },
  {
   "cell_type": "markdown",
   "metadata": {},
   "source": [
    "### Prepare environment for training"
   ]
  },
  {
   "cell_type": "code",
   "execution_count": 3,
   "metadata": {},
   "outputs": [
    {
     "name": "stdout",
     "output_type": "stream",
     "text": [
      "(8000, 10, 36)\n"
     ]
    }
   ],
   "source": [
    "# Img = np.load('AntWorld-Gym-01.npz')['Img'] # Generic Environment\n",
    "Img = env.Img\n",
    "print(Img.shape)\n",
    "height, width = Img.shape[1:]"
   ]
  },
  {
   "cell_type": "code",
   "execution_count": 4,
   "metadata": {},
   "outputs": [],
   "source": [
    "Imgs, Lbls = [], []\n",
    "for x in np.arange(0, 2, 0.05): # Label: 1\n",
    "    Imgs.append(env.getImage([x,0],0))\n",
    "    Lbls.append(1) \n",
    "for x in np.arange(2, 4, 0.05): # Label: 0\n",
    "    Imgs.append(env.getImage([x,0],0))\n",
    "    Lbls.append(0)\n",
    "\n",
    "nImg  = len(Imgs)\n",
    "Image = torch.Tensor(Imgs).unsqueeze(-1) # should be of size [nImg, h, w, 1]\n",
    "Label = [1] * int(nImg/2) + [0] * int(nImg/2) # half 1, half 0 \n",
    "\n",
    "dataSet    = utD.ImageDataset(Image, Label)\n",
    "dataLoader = DataLoader(dataSet,batch_size=1, shuffle=False)"
   ]
  },
  {
   "cell_type": "markdown",
   "metadata": {},
   "source": [
    "## PyTorch Lignthning Module for Experiment"
   ]
  },
  {
   "cell_type": "code",
   "execution_count": 5,
   "metadata": {},
   "outputs": [],
   "source": [
    "class Experiment(LightningModule):\n",
    "    def __init__(self, trainData):\n",
    "        super().__init__()\n",
    "        self.hparams     = {**config['hyperparameters'], **config['experimentParameters'], **config['modelParameters'], **config['experimentDetails']} # unzip nested dict\n",
    "        self.trainData   = trainData\n",
    "        self.RC          = ESN_NA(self.hparams)\n",
    "        self.GroundTruth = torch.Tensor(dataLoader.dataset.labels)\n",
    "        \n",
    "        \n",
    "        self.FC1         = torch.nn.Linear(self.hparams['nOutput'],100)\n",
    "        self.FC2         = torch.nn.Linear(100,10)\n",
    "        self.FC3         = torch.nn.Linear(10, 1)\n",
    "        self.NET         = torch.nn.Sequential(self.RC, self.FC1, self.FC2, self.FC3)\n",
    "#         self.params      = self.RC.params + [{'params': x.parameters(), 'lr':self.hparams['learningRate']} for x in [self.FC1, self.FC2, self.FC3]]\n",
    "        \n",
    "    def forward(self, x):\n",
    "        return self.NET(x)\n",
    "    \n",
    "    def configure_optimizers(self):\n",
    "        return torch.optim.Adam(self.NET.parameters())\n",
    "    \n",
    "    def train_dataloader(self):\n",
    "        return self.trainData\n",
    "    \n",
    "    def test_dataloader(self):\n",
    "        return self.trainData\n",
    "    \n",
    "    def training_step(self, batch, batch_idx):\n",
    "        if batch_idx == 0: self.RC.reset() # At the beginning of each epoch, reset the model! \n",
    "        \n",
    "        x, y  = batch\n",
    "        y_hat = self(x)\n",
    "        loss  = F.cross_entropy(y_hat, y)\n",
    "        logs_loss = {'train_loss': loss}\n",
    "        return {'loss': loss, 'log': logs_loss}\n",
    "    \n",
    "    def test_step(self, batch, batch_idx): \n",
    "        x, y    = batch\n",
    "        y_hat   = self(x)\n",
    "        tol_acc = (torch.abs(self.GroundTruth[batch_idx] - torch.argmax(y_hat))<self.hparams['tolerance']) # Accuracy\n",
    "        return {'tol_acc': tol_acc, 'y_pred': y_hat}\n",
    "\n",
    "    def test_epoch_end(self, outputs):\n",
    "        acc  = torch.stack([x['tol_acc'] for x in outputs]).float().mean()*100 # percentage\n",
    "        logs = {'test_acc': acc}\n",
    "        return logs"
   ]
  },
  {
   "cell_type": "markdown",
   "metadata": {},
   "source": [
    "## Create Model from config"
   ]
  },
  {
   "cell_type": "code",
   "execution_count": 6,
   "metadata": {},
   "outputs": [],
   "source": [
    "config = utL.getConfig('config.yaml')\n",
    "config['experimentDetails']['labelFreq'] = nImg//2\n",
    "config['modelParameters']['nOutput']     = 1000"
   ]
  },
  {
   "cell_type": "code",
   "execution_count": 7,
   "metadata": {},
   "outputs": [],
   "source": [
    "expDict = {\n",
    "            'gpus'                     : 1,\n",
    "            'profiler'                 : False,\n",
    "            'log_save_interval'        : 10000,\n",
    "            'progress_bar_refresh_rate': 1000,\n",
    "            'row_log_interval'         : 10000,\n",
    "            'max_epochs'               : 10,\n",
    "            }"
   ]
  },
  {
   "cell_type": "code",
   "execution_count": 8,
   "metadata": {},
   "outputs": [],
   "source": [
    "# exp     = Experiment(dataLoader)"
   ]
  },
  {
   "cell_type": "code",
   "execution_count": 9,
   "metadata": {},
   "outputs": [],
   "source": [
    "# x = next(iter(dataLoader))[0]\n",
    "# # exp(x.to('cuda'))\n",
    "# # exp.params\n",
    "# trainer = Trainer(**expDict)\n",
    "# trainer.fit(exp); "
   ]
  },
  {
   "cell_type": "code",
   "execution_count": 10,
   "metadata": {},
   "outputs": [],
   "source": [
    "# exp     = Experiment(dataLoader)\n",
    "# trainer = Trainer(**expDict)\n",
    "# trainer.fit(exp); \n",
    "# trainer.test(ckpt_path=None);"
   ]
  },
  {
   "cell_type": "markdown",
   "metadata": {},
   "source": [
    "## Debug: Create ESN-MLP"
   ]
  },
  {
   "cell_type": "code",
   "execution_count": 11,
   "metadata": {},
   "outputs": [],
   "source": [
    "hparams     = {**config['hyperparameters'], **config['experimentParameters'], **config['modelParameters'], **config['experimentDetails']} # unzip nested dict\n",
    "RC          = ESN_NA(hparams)\n",
    "FC1         = torch.nn.Linear(hparams['nOutput'],100)\n",
    "FC2         = torch.nn.Linear(100,10)\n",
    "FC3         = torch.nn.Linear(10, 1)\n",
    "NET         = torch.nn.Sequential(RC,FC1,FC2,FC3)"
   ]
  },
  {
   "cell_type": "code",
   "execution_count": 12,
   "metadata": {},
   "outputs": [],
   "source": [
    "x = next(iter(dataLoader))[0].to('cuda')"
   ]
  },
  {
   "cell_type": "code",
   "execution_count": 13,
   "metadata": {},
   "outputs": [
    {
     "data": {
      "text/plain": [
       "tensor([[-0.0249,  0.0114,  0.0204, -0.0009, -0.0258,  0.0279,  0.0293, -0.0268,\n",
       "         -0.0074,  0.0166, -0.0013,  0.0029, -0.0303,  0.0183,  0.0033, -0.0309,\n",
       "         -0.0255,  0.0167,  0.0048,  0.0182,  0.0262, -0.0136, -0.0199, -0.0132,\n",
       "         -0.0260,  0.0276, -0.0269,  0.0205,  0.0140,  0.0019,  0.0114, -0.0254,\n",
       "         -0.0209, -0.0250,  0.0182, -0.0302,  0.0202, -0.0119,  0.0025, -0.0186,\n",
       "         -0.0185,  0.0164, -0.0051,  0.0057, -0.0062,  0.0126, -0.0257, -0.0125,\n",
       "         -0.0039,  0.0271,  0.0221,  0.0297, -0.0076,  0.0142,  0.0048, -0.0192,\n",
       "         -0.0205,  0.0299,  0.0283, -0.0238,  0.0044,  0.0266,  0.0271, -0.0286,\n",
       "          0.0006,  0.0311,  0.0124, -0.0176,  0.0067,  0.0141, -0.0148, -0.0213,\n",
       "         -0.0024, -0.0016, -0.0308,  0.0087, -0.0170, -0.0011,  0.0197,  0.0215,\n",
       "         -0.0006,  0.0296,  0.0301,  0.0237,  0.0180,  0.0061,  0.0131,  0.0261,\n",
       "         -0.0298, -0.0041, -0.0171,  0.0113,  0.0238,  0.0078, -0.0059,  0.0056,\n",
       "         -0.0136, -0.0010, -0.0052, -0.0070]], grad_fn=<AddmmBackward>)"
      ]
     },
     "execution_count": 13,
     "metadata": {},
     "output_type": "execute_result"
    }
   ],
   "source": [
    "RC.reset()\n",
    "y=RC(x)\n",
    "FC1(y)"
   ]
  },
  {
   "cell_type": "code",
   "execution_count": 15,
   "metadata": {},
   "outputs": [
    {
     "ename": "RuntimeError",
     "evalue": "CUDA error: an illegal memory access was encountered",
     "output_type": "error",
     "traceback": [
      "\u001b[0;31m---------------------------------------------------------------------------\u001b[0m",
      "\u001b[0;31mRuntimeError\u001b[0m                              Traceback (most recent call last)",
      "\u001b[0;32m<ipython-input-15-b887510bbd38>\u001b[0m in \u001b[0;36m<module>\u001b[0;34m\u001b[0m\n\u001b[0;32m----> 1\u001b[0;31m \u001b[0my\u001b[0m\u001b[0;34m.\u001b[0m\u001b[0mcpu\u001b[0m\u001b[0;34m(\u001b[0m\u001b[0;34m)\u001b[0m\u001b[0;34m\u001b[0m\u001b[0;34m\u001b[0m\u001b[0m\n\u001b[0m",
      "\u001b[0;31mRuntimeError\u001b[0m: CUDA error: an illegal memory access was encountered"
     ]
    }
   ],
   "source": [
    "y.cpu()"
   ]
  }
 ],
 "metadata": {
  "kernelspec": {
   "display_name": "Python 3",
   "language": "python",
   "name": "python3"
  },
  "language_info": {
   "codemirror_mode": {
    "name": "ipython",
    "version": 3
   },
   "file_extension": ".py",
   "mimetype": "text/x-python",
   "name": "python",
   "nbconvert_exporter": "python",
   "pygments_lexer": "ipython3",
   "version": "3.8.2"
  }
 },
 "nbformat": 4,
 "nbformat_minor": 4
}
